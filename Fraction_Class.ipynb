{
  "nbformat": 4,
  "nbformat_minor": 0,
  "metadata": {
    "colab": {
      "provenance": []
    },
    "kernelspec": {
      "name": "python3",
      "display_name": "Python 3"
    },
    "language_info": {
      "name": "python"
    }
  },
  "cells": [
    {
      "cell_type": "code",
      "source": [
        "import math  # Importing math to simplify fractions using GCD (Greatest Common Divisor)\n",
        "\n",
        "class Fraction:\n",
        "    def __init__(self, num, den):\n",
        "        if den == 0:\n",
        "            raise ValueError(\"Denominator cannot be zero\")  # Preventing division by zero\n",
        "        self.num = num  # Storing numerator\n",
        "        self.den = den  # Storing denominator\n",
        "        self.simplify()  # Automatically simplify fraction when created\n",
        "\n",
        "    def simplify(self):\n",
        "        \"\"\"Reduce the fraction to its simplest form using GCD\"\"\"\n",
        "        gcd = math.gcd(self.num, self.den)  # Get greatest common divisor\n",
        "        self.num //= gcd  # Divide numerator by GCD\n",
        "        self.den //= gcd  # Divide denominator by GCD\n",
        "\n",
        "    def __str__(self):\n",
        "        \"\"\"Return fraction as a string (e.g., '3/4' instead of an object address)\"\"\"\n",
        "        return f\"{self.num}/{self.den}\"\n",
        "\n",
        "    def __add__(self, *others):\n",
        "        \"\"\"Handles addition of two or more fractions\"\"\"\n",
        "        new_num = self.num  # Start with the first fraction's numerator\n",
        "        new_den = self.den  # Start with the first fraction's denominator\n",
        "        for other in others:\n",
        "            new_num = new_num * other.den + other.num * new_den  # Cross multiplication\n",
        "            new_den *= other.den  # Multiply denominators\n",
        "        return Fraction(new_num, new_den)  # Return new Fraction object (auto-simplified)\n",
        "\n",
        "    def __sub__(self, *others):\n",
        "        \"\"\"Handles subtraction of two or more fractions\"\"\"\n",
        "        new_num = self.num  # Start with first fraction\n",
        "        new_den = self.den\n",
        "        for other in others:\n",
        "            new_num = new_num * other.den - other.num * new_den  # Cross multiplication (but subtract)\n",
        "            new_den *= other.den  # Multiply denominators\n",
        "        return Fraction(new_num, new_den)  # Return result as a new Fraction object\n",
        "\n",
        "    def __mul__(self, *others):\n",
        "        \"\"\"Handles multiplication of two or more fractions\"\"\"\n",
        "        new_num = self.num  # Start with first fraction\n",
        "        new_den = self.den\n",
        "        for other in others:\n",
        "            new_num *= other.num  # Multiply numerators\n",
        "            new_den *= other.den  # Multiply denominators\n",
        "        return Fraction(new_num, new_den)  # Return new Fraction object\n",
        "\n",
        "    def __truediv__(self, *others):\n",
        "        \"\"\"Handles division of two or more fractions\"\"\"\n",
        "        new_num = self.num  # Start with first fraction\n",
        "        new_den = self.den\n",
        "        for other in others:\n",
        "            new_num *= other.den  # Multiply by reciprocal's numerator\n",
        "            new_den *= other.num  # Multiply by reciprocal's denominator\n",
        "        return Fraction(new_num, new_den)  # Return new Fraction object\n",
        "\n",
        "# ✅ Example Usage:\n",
        "f1 = Fraction(1, 2)  # Represents 1/2\n",
        "f2 = Fraction(3, 4)  # Represents 3/4\n",
        "f3 = Fraction(5, 6)  # Represents 5/6\n",
        "\n",
        "# Testing the operations with multiple fractions\n",
        "print(f\"Addition: {f1 + f2 + f3}\")     # ✅ (1/2) + (3/4) + (5/6) = 19/12\n",
        "print(f\"Subtraction: {f1 - f2 - f3}\")  # ✅ (1/2) - (3/4) - (5/6) = -5/12\n",
        "print(f\"Multiplication: {f1 * f2 * f3}\")  # ✅ (1/2) * (3/4) * (5/6) = 5/16\n",
        "print(f\"Division: {f1 / f2 / f3}\")  # ✅ (1/2) ÷ (3/4) ÷ (5/6) = 4/5\n"
      ],
      "metadata": {
        "colab": {
          "base_uri": "https://localhost:8080/"
        },
        "id": "DjUhNjg3vdZ7",
        "outputId": "488e1063-583b-4073-aada-9c33a242ba37"
      },
      "execution_count": 99,
      "outputs": [
        {
          "output_type": "stream",
          "name": "stdout",
          "text": [
            "Addition: 25/12\n",
            "Subtraction: -13/12\n",
            "Multiplication: 5/16\n",
            "Division: 4/5\n"
          ]
        }
      ]
    }
  ]
}